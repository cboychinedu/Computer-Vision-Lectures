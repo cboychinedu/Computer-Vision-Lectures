{
 "cells": [
  {
   "cell_type": "code",
   "execution_count": 1,
   "metadata": {},
   "outputs": [],
   "source": [
    "#!/usr/bin/env python3 "
   ]
  },
  {
   "cell_type": "code",
   "execution_count": 2,
   "metadata": {},
   "outputs": [],
   "source": [
    "# Author: \n",
    "# Description: \n",
    "# Date Created: \n",
    "# Date Modified: "
   ]
  },
  {
   "cell_type": "code",
   "execution_count": 8,
   "metadata": {},
   "outputs": [],
   "source": [
    "# Importing the necessary modules \n",
    "import cv2 \n",
    "import sys \n",
    "import os "
   ]
  },
  {
   "cell_type": "code",
   "execution_count": 9,
   "metadata": {},
   "outputs": [
    {
     "name": "stdout",
     "output_type": "stream",
     "text": [
      "/home/mbonuchinedu/anaconda3/envs/ml/bin/python\n",
      "/home/mbonuchinedu/Documents/MainProjects/Notebooks/LECTURES/computerVision \n",
      "\n",
      "OpenCv version: 4.4.0\n"
     ]
    }
   ],
   "source": [
    "# Displaying the path to the executable python shell \n",
    "print(sys.executable); \n",
    "\n",
    "# Displaying the current working directory of this program \n",
    "print(os.getcwd(), \"\\n\")\n",
    "\n",
    "# Displaying the version for opencv \n",
    "print(f\"OpenCv version: {cv2.__version__}\")"
   ]
  },
  {
   "cell_type": "markdown",
   "metadata": {},
   "source": [
    "<h3> What are Images ? </h3> \n",
    "\n",
    "<p> \n",
    "Image are a 2 dimensional representation of the visible light spectrum. Images can be a photograph or something you see on your laptop screen. <br>   \n",
    "</p> \n",
    "\n",
    "<h3> How are Image Formed ? </h3> \n",
    "<p> \n",
    "Images are formed when light reflects off an object onto a film, sensor or retina.  </p> \n",
    "\n",
    "<h3> Controlling image formation with a lens </h3> \n",
    "<p> \n",
    "<ul> \n",
    "<li> Both our eyes and cameras use an adaptive lens to control many aspects of image formation such as: <br> \n",
    "<ul> \n",
    "<li> <b> Aperture Size </b> </li> \n",
    "<ul> \n",
    "<li> Controls the amount of light allowed through (f-stops in cameras) </li>  \n",
    "<li> Depth of Field (Bokeh) </li> \n",
    "    \n",
    "</ul> \n",
    "    \n",
    "<li> <b> Lens Width </b> </li> \n",
    "<ul> \n",
    "<li> Adjusts focus distance (near of far) </li> \n",
    "</ul> \n",
    "    \n",
    "</ul>\n",
    "</li> </ul> \n",
    "\n",
    "<h3> How do Computers Store Images ? </h3> \n",
    "<p> \n",
    "OpenCv uses <b>RGB</b> color space by default. <br> \n",
    "Each pixel co-ordinate <b>(x, y)</b> contains 3 values ranging for intensities of 0 to 255 <b>(8-bit)</b>  <br> \n",
    "    \n",
    "Mixing different intensities of each color gives us the full color spectrum, example <b>Yellow</b> \n",
    "e.g \n",
    "<ul> \n",
    "<li> Red - 255 </li> \n",
    "<li> Green - 255 </li> \n",
    "<li> Blue - 0 </li> \n",
    "    \n",
    "</ul> \n",
    "        \n",
    "</p> "
   ]
  },
  {
   "cell_type": "markdown",
   "metadata": {},
   "source": [
    "<h3> Reading, writing and displaying images with OpenCV </h3> "
   ]
  },
  {
   "cell_type": "code",
   "execution_count": 1,
   "metadata": {},
   "outputs": [],
   "source": [
    "# Importing the necessary modules \n",
    "import cv2 \n",
    "import numpy as np "
   ]
  },
  {
   "cell_type": "code",
   "execution_count": 4,
   "metadata": {},
   "outputs": [
    {
     "name": "stdout",
     "output_type": "stream",
     "text": [
      "Image shape: (400, 400, 3)\n"
     ]
    }
   ],
   "source": [
    "# Setting the path to the image \n",
    "IMG_PATH = \"images/grande3.jpg\"\n",
    "\n",
    "# Load the image into memory \n",
    "image = cv2.imread(IMG_PATH) \n",
    "image = cv2.resize(image, (400, 400))\n",
    "\n",
    "# Displaying the shape of the image  \n",
    "print(f\"Image shape: {image.shape}\") # This would show the height, width, and the channel. "
   ]
  },
  {
   "cell_type": "code",
   "execution_count": 6,
   "metadata": {},
   "outputs": [
    {
     "name": "stdout",
     "output_type": "stream",
     "text": [
      "Height of the image: 400 pixels. \n",
      "\n",
      "Widht of the image: 400 pixels. \n",
      "\n"
     ]
    }
   ],
   "source": [
    "# Displaying the dimension of the image differently \n",
    "print(f\"Height of the image: {image.shape[0]} pixels. \\n\")\n",
    "print(f\"Widht of the image: {image.shape[1]} pixels. \\n\")"
   ]
  },
  {
   "cell_type": "markdown",
   "metadata": {},
   "source": [
    "<p> The 2D dimension are 400 pixels in height and 400 pixels in width. The 3L means that there are 3 other components (RGB) that make up this image </p> "
   ]
  },
  {
   "cell_type": "code",
   "execution_count": 5,
   "metadata": {},
   "outputs": [],
   "source": [
    "# Displaying the image  \n",
    "cv2.imshow(\"Grande\", image) \n",
    "cv2.waitKey(0) \n",
    "\n",
    "# Destroying all windows \n",
    "cv2.destroyAllWindows() "
   ]
  },
  {
   "cell_type": "markdown",
   "metadata": {},
   "source": [
    "<h3> Grayscaling </h3> \n",
    "\n",
    "<p> <b>Grayscaling</b> is the process by which an image is converted from a full color to shades of grey <b>(black & white ) </b>  <br> \n",
    "\n",
    "In <b>Opencv</b>, many functions grayscale images before processing. This is done because it simplifies the image, acting as a noise reduction and increasing processing time as there is less information in the image. \n",
    "    \n",
    "</p> "
   ]
  },
  {
   "cell_type": "code",
   "execution_count": 7,
   "metadata": {},
   "outputs": [],
   "source": [
    "# Importing the necessary modules \n",
    "import cv2 \n",
    "import numpy as np "
   ]
  },
  {
   "cell_type": "code",
   "execution_count": 13,
   "metadata": {},
   "outputs": [],
   "source": [
    "# Setting the path to the image  \n",
    "IMG_PATH = \"images/grande1.jpg\" \n",
    "\n",
    "# Loading the image  \n",
    "image = cv2.imread(IMG_PATH) \n",
    "\n",
    "# Resizing the image \n",
    "image = cv2.resize(image, (300, 300))\n",
    "\n",
    "# Converting the image to a gray scale value \n",
    "gray_image = cv2.cvtColor(image, cv2.COLOR_BGR2GRAY)"
   ]
  },
  {
   "cell_type": "code",
   "execution_count": 14,
   "metadata": {},
   "outputs": [],
   "source": [
    "# Displaying the image  \n",
    "cv2.imshow(\"Grande\", image) \n",
    "cv2.imshow(\"Gray Grande\", gray_image)\n",
    "cv2.waitKey(0) \n",
    "\n",
    "# Destroying all windows \n",
    "cv2.destroyAllWindows() "
   ]
  },
  {
   "cell_type": "markdown",
   "metadata": {},
   "source": [
    "<h3> Understanding Color Spaces </h3> \n",
    "<p> Color spaces are different methods by which we store images on a computer. \n",
    "e.g \n",
    "<ul> \n",
    "<li> <b> RGB </b> </li> \n",
    "<li> <b> HSV </b> </li> \n",
    "<li> <b>CMYK</b> </li> \n",
    "</ul> \n",
    "\n",
    "</p> \n",
    "\n",
    "<p> \n",
    "Note that <b>OpenCV</b> uses <b>RGB</b> as it's default color space, but stores color in the <b> BGR format. </b> <br> \n",
    "    \n",
    "<b> RGB</b> is an additive color model that generates colors by combining blue, green, red and different intensities/brightness. In OpenCV we use the 8-bit color depths. \n",
    "    \n",
    "    \n",
    "</p> \n",
    "\n",
    "<h3> HSV Color Space </h3> \n",
    "<p> <b> HSV</b> (Hue, Saturation & Value/Brightness) is a color space that attempts to represent colors the way humans perceive it. It stores color information in a cylindrical representaion of RGB color points. <br> \n",
    "    \n",
    "<b> Hue </b> Color Value (0 - 179) <br> \n",
    "<b> Saturation </b> - Vibrancy of color (0 - 255) <br> \n",
    "<b> Value </b> - Brightness or intensity (0 - 255) <br> \n",
    "    \n",
    "It's useful in computer vision for color segmentaion. In RGB, filtering specific colors isn't easy, however, HSV makes it much easier to set color ranges to filter specific colors as we perceive them. <br> \n",
    "        \n",
    "</p> \n",
    "\n",
    "<h3> Exploring the Color Spaces </h3> "
   ]
  },
  {
   "cell_type": "code",
   "execution_count": 15,
   "metadata": {},
   "outputs": [],
   "source": [
    "# Importing the necessary modules \n",
    "import os \n",
    "import cv2 \n",
    "import numpy as np "
   ]
  },
  {
   "cell_type": "code",
   "execution_count": 40,
   "metadata": {},
   "outputs": [],
   "source": [
    "# Setting the path to the image \n",
    "IMG_PATH = \"images/grande1.jpg\"\n",
    "\n",
    "# Loading the images into memory \n",
    "image = cv2.imread(IMG_PATH) \n",
    "\n",
    "# Resizing the image \n",
    "image = cv2.resize(image, (300, 300))"
   ]
  },
  {
   "cell_type": "markdown",
   "metadata": {},
   "source": [
    "<h4> Looking at the individual color levels for the image </h4> "
   ]
  },
  {
   "cell_type": "code",
   "execution_count": 41,
   "metadata": {},
   "outputs": [
    {
     "name": "stdout",
     "output_type": "stream",
     "text": [
      "Image shape: (300, 300, 3) \n",
      "\n",
      "Blue: 226, Green: 230, Red: 231\n"
     ]
    }
   ],
   "source": [
    "# BGR values for the first 0,0 pixel \n",
    "B, G, R = image[0, 0]\n",
    "\n",
    "# Displaying the shape of the image \n",
    "print(f\"Image shape: {image.shape} \\n\")\n",
    "\n",
    "# Displaying the values \n",
    "print(f\"Blue: {B}, Green: {G}, Red: {R}\")"
   ]
  },
  {
   "cell_type": "markdown",
   "metadata": {},
   "source": [
    "<h4> Looking at the individual color levels when we convert to gray scale </h4> "
   ]
  },
  {
   "cell_type": "code",
   "execution_count": 42,
   "metadata": {},
   "outputs": [
    {
     "name": "stdout",
     "output_type": "stream",
     "text": [
      "Gray Image Shape: (300, 300) \n",
      "\n",
      "Gray Scale Value: 230\n"
     ]
    }
   ],
   "source": [
    "# Converting the image into gray scale \n",
    "gray_image = cv2.cvtColor(image, cv2.COLOR_BGR2GRAY)\n",
    "\n",
    "# Displaying the shape of the gray image \n",
    "print(f\"Gray Image Shape: {gray_image.shape} \\n\")\n",
    "\n",
    "# Displaying the gray scale values \n",
    "print(f\"Gray Scale Value: {gray_image[0, 0]}\")"
   ]
  },
  {
   "cell_type": "markdown",
   "metadata": {},
   "source": [
    "<h4> Splitting Color Spaces From An Image </h4> "
   ]
  },
  {
   "cell_type": "code",
   "execution_count": 43,
   "metadata": {},
   "outputs": [],
   "source": [
    "# Splitting the color spaces from the image into blue, green and red. \n",
    "B, G, R = cv2.split(image) \n",
    "\n",
    "# Creating a matrix of zeros with the \n",
    "# Dimensions of the image h x w. \n",
    "zeros = np.zeros(image.shape[:2], dtype = \"uint8\")\n",
    "\n",
    "# Displaying the images for each color spaces \n",
    "cv2.imshow(\"Blue\", cv2.merge([zeros, zeros, B]))\n",
    "cv2.imshow(\"Green\", cv2.merge([zeros, G, zeros]))\n",
    "cv2.imshow(\"Red\", cv2.merge([B, zeros, zeros]))\n",
    "\n",
    "# Waiting and on key press destroy all windows. \n",
    "cv2.waitKey(0) \n",
    "cv2.destroyAllWindows() "
   ]
  },
  {
   "cell_type": "markdown",
   "metadata": {},
   "source": [
    "<h3> Histograms </h3> \n",
    "\n",
    "- Creating histograms plots from loaded images \n",
    "\n",
    "<p> <b> cv2.calHist(images, channels, mask, histSize, ranges[,accumulate]]) </b> </p> \n",
    "\n",
    "<p> \n",
    "<ul> \n",
    "\n",
    "<li> <b> Images:</b> it is the source image of type uint8 or float32. It should be given in square brackets, ie, \"[img]\". </li> \n",
    "<li> <b> Channels: </b> it is also given in square brackets. It is the index of channel for which we calculate histogram. For example, if input is grayscale image, its value is [0]. For color image, you can pass [0], [1] or [2] to calculate histogram of blue, green or red channel respectively. </li> \n",
    "<li> <b> Mask: </b> mask image. To find the histogram of full image, it is given as \"None\". But if you want to find the histogram of a particular region of image, you have to create a mask image for that and give it as mask. </li> \n",
    "<li> <b> histSize: </b> This represents our BIN count. Need to be given in square brackets. For full scale, we pass [256]. </li> \n",
    "<li> <b> Ranges: </b> This is our RANGE. Normally, it is [0, 256]. </li> \n",
    "            \n",
    "</ul>     \n",
    "</p> "
   ]
  },
  {
   "cell_type": "code",
   "execution_count": 45,
   "metadata": {},
   "outputs": [],
   "source": [
    "# Importing the necessary modules \n",
    "import os \n",
    "import cv2 \n",
    "import numpy as np \n",
    "import matplotlib.pyplot as plt "
   ]
  },
  {
   "cell_type": "code",
   "execution_count": 72,
   "metadata": {},
   "outputs": [
    {
     "data": {
      "image/png": "[encoded data removed]",
      "text/plain": [
       "<Figure size 720x504 with 1 Axes>"
      ]
     },
     "metadata": {
      "needs_background": "light"
     },
     "output_type": "display_data"
    }
   ],
   "source": [
    "# Setting the path to the image \n",
    "IMG_PATH = \"images/grande3.jpg\"\n",
    "\n",
    "# Loading the image  \n",
    "image = cv2.imread(IMG_PATH) \n",
    "\n",
    "# Resizing the image \n",
    "image = cv2.resize(image, (300, 300))\n",
    "\n",
    "# Converting into a histogram \n",
    "histogram = cv2.calcHist([image], [0], None, [256], [0, 256])\n",
    "\n",
    "# Setting the size of the figure \n",
    "plt.figure(figsize=(10, 7))\n",
    "\n",
    "# Plotting the histogram and flatten the image array \n",
    "plt.hist(image.ravel(), 256, [0, 256])\n",
    "\n",
    "# Displaying the plot \n",
    "plt.show() "
   ]
  },
  {
   "cell_type": "code",
   "execution_count": 73,
   "metadata": {},
   "outputs": [
    {
     "data": {
      "image/png": "[encoded data removed]",
      "text/plain": [
       "<Figure size 720x504 with 1 Axes>"
      ]
     },
     "metadata": {
      "needs_background": "light"
     },
     "output_type": "display_data"
    }
   ],
   "source": [
    "# Plotting the image into different channels \n",
    "color = (\"b\", \"g\", \"r\")\n",
    "\n",
    "# Setting the size of the figure \n",
    "plt.figure(figsize=(10, 7))\n",
    "\n",
    "# We now seperate the colors and plot each in the Histogram \n",
    "for i, col in enumerate(color): \n",
    "    # Seperating the histogram for each color spaces \n",
    "    histogram2 = cv2.calcHist([image], [i], None, [256], [0, 256])\n",
    "    \n",
    "    # plotting each color spaces as an individual histogram value \n",
    "    plt.plot(histogram2, color = col)\n",
    "    \n",
    "    # setting the xlimit \n",
    "    plt.xlim([0, 256])\n",
    "    \n",
    "# displaying the plot \n",
    "plt.show() "
   ]
  },
  {
   "cell_type": "markdown",
   "metadata": {},
   "source": [
    "<h3> Drawing Lines And Shapes On Images </h3> "
   ]
  },
  {
   "cell_type": "code",
   "execution_count": 74,
   "metadata": {},
   "outputs": [],
   "source": [
    "# Importing the necessary modules \n",
    "import os \n",
    "import cv2 \n",
    "import numpy as np "
   ]
  },
  {
   "cell_type": "code",
   "execution_count": 75,
   "metadata": {},
   "outputs": [],
   "source": [
    "# Creating a black images using the numpy zeros function \n",
    "image = np.zeros((300, 300, 3), np.uint8)\n",
    "\n",
    "# Making the black image for just gray scale or one color space \n",
    "gray_image = np.zeros((300, 300), np.uint8) \n",
    "\n",
    "# Displaying both images \n",
    "cv2.imshow(\"Black Image\", image)\n",
    "cv2.imshow(\"Black Gray Image\", gray_image) \n",
    "\n",
    "# Display the image until a key is pressed, then destroy all windows \n",
    "cv2.waitKey(0) \n",
    "cv2.destroyAllWindows() "
   ]
  },
  {
   "cell_type": "markdown",
   "metadata": {},
   "source": [
    "<h4> Drawing a line on the image </h4> "
   ]
  },
  {
   "cell_type": "code",
   "execution_count": 88,
   "metadata": {},
   "outputs": [],
   "source": [
    "# Draw a diagonal blue line of thickness of 1 pixels \n",
    "# Setting the blue color \n",
    "blue = (255, 127, 0)\n",
    "\n",
    "# Creating the image \n",
    "image = np.zeros((300, 300, 3), np.uint8) \n",
    "\n",
    "# Drawing the blue line on the created image  \n",
    "# cv2.line(image, (x1, y1), (x2, y2), color, thickness)\n",
    "cv2.line(image, (99, 103), (300, 300), blue, 1)\n",
    "\n",
    "# Displaying the image \n",
    "cv2.imshow(\"Blue Line\", image) \n",
    "\n",
    "# waiting until a key is pressed, then destroy all windows \n",
    "cv2.waitKey(0) \n",
    "cv2.destroyAllWindows() "
   ]
  },
  {
   "cell_type": "markdown",
   "metadata": {},
   "source": [
    "<h4> Drawing a rectangle on the image </h4> "
   ]
  },
  {
   "cell_type": "code",
   "execution_count": 92,
   "metadata": {},
   "outputs": [],
   "source": [
    "# Drawing a rectangle \n",
    "# setting the color \n",
    "color = (124, 255, 42)\n",
    "\n",
    "# Creating the image \n",
    "image  = np.zeros((300, 300, 3), np.uint8) \n",
    "\n",
    "# Creating the rectangle \n",
    "cv2.rectangle(image, (99, 225), (250, 250), color, 1)\n",
    "\n",
    "# Displaying the image  \n",
    "cv2.imshow(\"Rectangle\", image) \n",
    "\n",
    "# Waiting until a key is pressed, then destroy all windows. \n",
    "cv2.waitKey(0) \n",
    "cv2.destroyAllWindows() "
   ]
  },
  {
   "cell_type": "markdown",
   "metadata": {},
   "source": [
    "<h4> Drawing circles on images </h4> \n",
    "<p> \n",
    "<b> cv2.circle(image, center, radius, color, fill) </b> \n",
    "\n",
    "</p> "
   ]
  },
  {
   "cell_type": "code",
   "execution_count": 97,
   "metadata": {},
   "outputs": [],
   "source": [
    "# Creating the image  \n",
    "image  = np.zeros((300, 300, 3), np.uint8) \n",
    "\n",
    "# Drawing the circle \n",
    "cv2.circle(image, (149, 137), 25, color, -2)\n",
    "cv2.circle(image, (165, 128), 25, color, -2)\n",
    "cv2.circle(image, (165+25, 128+25), 25, color, -2)\n",
    "\n",
    "# Displaying the image  \n",
    "cv2.imshow(\"Circle\", image) \n",
    "\n",
    "# Waiting until a key is pressed, then destroy all windows. \n",
    "cv2.waitKey(0) \n",
    "cv2.destroyAllWindows() "
   ]
  },
  {
   "cell_type": "markdown",
   "metadata": {},
   "source": [
    "<h4> Placing texts in an image </h4> \n",
    "<p> <b> cv2.putText(image, \"Text to Display\", (x, y), Font, Font Size, Color, Thickness) </b> </p> <br> \n",
    "\n",
    "<p>\n",
    "<ul> \n",
    "<li> FONT_HERSHEY_SIMPLEX, FONT_HERSHEY_PLAIN <li> \n",
    "<li> FONT_HERSHEY_DUPLEX,FONT_HERSHEY_COMPLEX </li> \n",
    "<li> FONT_HERSHEY_TRIPLEX, FONT_HERSHEY_COMPLEX_SMALL </li> \n",
    "<li> FONT_HERSHEY_SCRIPT_SIMPLEX </li> \n",
    "<li> FONT_HERSHEY_SCRIPT_COMPLEX </li> \n",
    "    "
   ]
  },
  {
   "cell_type": "code",
   "execution_count": 101,
   "metadata": {},
   "outputs": [],
   "source": [
    "# Creating the image  \n",
    "image = np.zeros((300, 300, 3), np.uint8) \n",
    "\n",
    "# Placing text inside the image  \n",
    "cv2.putText(image, \"Hello Nedu\", (106, 46), cv2.FONT_HERSHEY_COMPLEX, 0.75, color, 1)\n",
    "\n",
    "# Displaying the image \n",
    "cv2.imshow(\"Image\", image) \n",
    "\n",
    "# Waiting until a key is pressed, then destroy the window \n",
    "cv2.waitKey(0) \n",
    "cv2.destroyAllWindows() "
   ]
  },
  {
   "cell_type": "code",
   "execution_count": null,
   "metadata": {},
   "outputs": [],
   "source": []
  },
  {
   "cell_type": "code",
   "execution_count": null,
   "metadata": {},
   "outputs": [],
   "source": []
  },
  {
   "cell_type": "code",
   "execution_count": null,
   "metadata": {},
   "outputs": [],
   "source": []
  },
  {
   "cell_type": "code",
   "execution_count": null,
   "metadata": {},
   "outputs": [],
   "source": []
  },
  {
   "cell_type": "code",
   "execution_count": null,
   "metadata": {},
   "outputs": [],
   "source": []
  }
 ],
 "metadata": {
  "kernelspec": {
   "display_name": "Python 3",
   "language": "python",
   "name": "python3"
  },
  "language_info": {
   "codemirror_mode": {
    "name": "ipython",
    "version": 3
   },
   "file_extension": ".py",
   "mimetype": "text/x-python",
   "name": "python",
   "nbconvert_exporter": "python",
   "pygments_lexer": "ipython3",
   "version": "3.6.12"
  }
 },
 "nbformat": 4,
 "nbformat_minor": 4
}
