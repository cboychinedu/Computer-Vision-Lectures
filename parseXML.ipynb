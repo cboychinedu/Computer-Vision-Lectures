{
 "cells": [
  {
   "cell_type": "code",
   "execution_count": 1,
   "metadata": {},
   "outputs": [],
   "source": [
    "#!/usr/bin/env python3"
   ]
  },
  {
   "cell_type": "code",
   "execution_count": 1,
   "metadata": {},
   "outputs": [],
   "source": [
    "# Importing the necessary modules \n",
    "import os \n",
    "import csv \n",
    "import cv2 \n",
    "import numpy as np \n",
    "import pandas as pd \n",
    "import xml.etree.ElementTree as xml"
   ]
  },
  {
   "cell_type": "code",
   "execution_count": 2,
   "metadata": {},
   "outputs": [
    {
     "name": "stdout",
     "output_type": "stream",
     "text": [
      "<Element 'annotation' at 0x7fc297ece3b8>\n"
     ]
    }
   ],
   "source": [
    "# Getting the path to the xml file \n",
    "path = \"annotations/grande1.xml\"; \n",
    "\n",
    "# load the xml file \n",
    "root_node = xml.parse(path).getroot(); \n",
    "print(root_node); "
   ]
  },
  {
   "cell_type": "code",
   "execution_count": null,
   "metadata": {},
   "outputs": [],
   "source": []
  },
  {
   "cell_type": "code",
   "execution_count": 3,
   "metadata": {},
   "outputs": [],
   "source": [
    "# Extracting features from an xml file \n",
    "name = root_node.findall('object/name')[0].text; \n",
    "width = int(root_node.findall('size/width')[0].text); \n",
    "height = int(root_node.findall('size/height')[0].text); \n",
    "xmin = int(root_node.findall('object/bndbox/xmin')[0].text); \n",
    "ymin = int(root_node.findall('object/bndbox/ymin')[0].text); \n",
    "xmax = int(root_node.findall('object/bndbox/xmax')[0].text); \n",
    "ymax = int(root_node.findall('object/bndbox/ymax')[0].text); "
   ]
  },
  {
   "cell_type": "code",
   "execution_count": 4,
   "metadata": {},
   "outputs": [
    {
     "name": "stdout",
     "output_type": "stream",
     "text": [
      "annotations/grande1.xml\n",
      "annotations/grande2.xml\n"
     ]
    }
   ],
   "source": [
    "# Getting the path to the xml file \n",
    "path = os.listdir('annotations'); \n",
    "\n",
    "# loop through the annotations directory and load in the \n",
    "# Xml files into memory \n",
    "for xml_file in path: \n",
    "    full_path = os.sep.join(['annotations', xml_file]); \n",
    "    print(full_path); \n",
    "     "
   ]
  },
  {
   "cell_type": "code",
   "execution_count": 5,
   "metadata": {},
   "outputs": [
    {
     "data": {
      "text/html": [
       "<div>\n",
       "<style scoped>\n",
       "    .dataframe tbody tr th:only-of-type {\n",
       "        vertical-align: middle;\n",
       "    }\n",
       "\n",
       "    .dataframe tbody tr th {\n",
       "        vertical-align: top;\n",
       "    }\n",
       "\n",
       "    .dataframe thead th {\n",
       "        text-align: right;\n",
       "    }\n",
       "</style>\n",
       "<table border=\"1\" class=\"dataframe\">\n",
       "  <thead>\n",
       "    <tr style=\"text-align: right;\">\n",
       "      <th></th>\n",
       "      <th>Path</th>\n",
       "      <th>width</th>\n",
       "      <th>height</th>\n",
       "      <th>Label</th>\n",
       "      <th>Xmin</th>\n",
       "      <th>Ymin</th>\n",
       "      <th>Xmax</th>\n",
       "      <th>Ymax</th>\n",
       "    </tr>\n",
       "  </thead>\n",
       "  <tbody>\n",
       "    <tr>\n",
       "      <th>0</th>\n",
       "      <td>annotations/grande2.xml</td>\n",
       "      <td>983</td>\n",
       "      <td>983</td>\n",
       "      <td>Grande</td>\n",
       "      <td>294</td>\n",
       "      <td>8</td>\n",
       "      <td>747</td>\n",
       "      <td>830</td>\n",
       "    </tr>\n",
       "  </tbody>\n",
       "</table>\n",
       "</div>"
      ],
      "text/plain": [
       "                      Path width height   Label Xmin Ymin Xmax Ymax\n",
       "0  annotations/grande2.xml   983    983  Grande  294    8  747  830"
      ]
     },
     "execution_count": 5,
     "metadata": {},
     "output_type": "execute_result"
    }
   ],
   "source": [
    "pd.DataFrame(np.array([[full_path, width, height, name, xmin, ymin, xmax, ymax]]), columns=[\"Path\", \"width\", \"height\", \"Label\", \"Xmin\", \"Ymin\", \"Xmax\", \"Ymax\"]).head() "
   ]
  },
  {
   "cell_type": "code",
   "execution_count": 6,
   "metadata": {},
   "outputs": [
    {
     "name": "stdout",
     "output_type": "stream",
     "text": [
      "(983, 983, 3)\n"
     ]
    }
   ],
   "source": [
    "img_one = cv2.imread(\"images/grande1.jpg\"); \n",
    "img = cv2.resize(img_one, (width, height))\n",
    "print(img.shape);"
   ]
  },
  {
   "cell_type": "code",
   "execution_count": 7,
   "metadata": {},
   "outputs": [],
   "source": [
    "# \n",
    "red = (0, 0, 255); \n",
    "\n",
    "cv2.rectangle(img, (xmin, ymin), (xmax, ymax), red, 2) \n",
    "\n",
    "# Display \n",
    "cv2.imshow('Image', img); \n",
    "cv2.waitKey(0); \n",
    "cv2.destroyAllWindows() "
   ]
  },
  {
   "cell_type": "code",
   "execution_count": 29,
   "metadata": {},
   "outputs": [
    {
     "name": "stdout",
     "output_type": "stream",
     "text": [
      "(822, 453, 3)\n"
     ]
    }
   ],
   "source": [
    "# \n",
    "start_row, start_col = xmin, ymin; \n",
    "end_row, end_col = xmax, ymax; \n",
    "\n",
    "# Cropping the image \n",
    "# img_cropped = img[start_row:end_row + height, start_col:end_col + width]\n",
    "img_cropped = img[ymin:ymax, xmin:xmax]\n",
    "print(img_cropped.shape); "
   ]
  },
  {
   "cell_type": "code",
   "execution_count": 30,
   "metadata": {},
   "outputs": [],
   "source": [
    "# Display the cropped image \n",
    "cv2.imshow('Image', img_cropped); \n",
    "cv2.waitKey(0); \n",
    "cv2.destroyAllWindows() "
   ]
  },
  {
   "cell_type": "code",
   "execution_count": null,
   "metadata": {},
   "outputs": [],
   "source": []
  },
  {
   "cell_type": "code",
   "execution_count": null,
   "metadata": {},
   "outputs": [],
   "source": []
  }
 ],
 "metadata": {
  "kernelspec": {
   "display_name": "Python 3",
   "language": "python",
   "name": "python3"
  },
  "language_info": {
   "codemirror_mode": {
    "name": "ipython",
    "version": 3
   },
   "file_extension": ".py",
   "mimetype": "text/x-python",
   "name": "python",
   "nbconvert_exporter": "python",
   "pygments_lexer": "ipython3",
   "version": "3.6.12"
  }
 },
 "nbformat": 4,
 "nbformat_minor": 4
}
